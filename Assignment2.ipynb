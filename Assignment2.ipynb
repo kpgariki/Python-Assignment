{
 "cells": [
  {
   "cell_type": "markdown",
   "metadata": {},
   "source": [
    "# Task-1"
   ]
  },
  {
   "cell_type": "code",
   "execution_count": 1,
   "metadata": {},
   "outputs": [],
   "source": [
    "def sum_of_list(x,y):\n",
    "    return x+y"
   ]
  },
  {
   "cell_type": "code",
   "execution_count": 2,
   "metadata": {},
   "outputs": [],
   "source": [
    "def mul(x,y):\n",
    "    return x*y"
   ]
  },
  {
   "cell_type": "code",
   "execution_count": 3,
   "metadata": {},
   "outputs": [
    {
     "name": "stdout",
     "output_type": "stream",
     "text": [
      "11\n",
      "36\n",
      "36\n"
     ]
    }
   ],
   "source": [
    "#1.1 Write a Python Program to implement your own myreduce() function which works exactly like Python's built-in function reduce() \n",
    "def my_reduce(func, iterable, start=0):\n",
    "    accum_value = iterable[0]\n",
    "    for x in range(1,len(iterable)):\n",
    "        accum_value = func(accum_value, iterable[x])\n",
    "    return accum_value \n",
    "\n",
    "#Function Call\n",
    "from functools import reduce\n",
    "l=[3,6,2]\n",
    "print(my_reduce(sum_of_list,l)) #ex1\n",
    "print(my_reduce(mul,l)) #External Reduce function call #ex2\n",
    "print(reduce(mul,l))   #Inbuilt python Reduce Function"
   ]
  },
  {
   "cell_type": "code",
   "execution_count": 4,
   "metadata": {},
   "outputs": [],
   "source": [
    "def ODD_NUM_LIST(n):\n",
    "    if n % 2!=0:\n",
    "        return True\n",
    "    "
   ]
  },
  {
   "cell_type": "code",
   "execution_count": 5,
   "metadata": {},
   "outputs": [
    {
     "ename": "TypeError",
     "evalue": "'type' object is not iterable",
     "output_type": "error",
     "traceback": [
      "\u001b[1;31m---------------------------------------------------------------------------\u001b[0m",
      "\u001b[1;31mTypeError\u001b[0m                                 Traceback (most recent call last)",
      "\u001b[1;32m<ipython-input-5-adbcc8e96530>\u001b[0m in \u001b[0;36m<module>\u001b[1;34m\u001b[0m\n\u001b[1;32m----> 1\u001b[1;33m \u001b[0mf\u001b[0m\u001b[1;33m=\u001b[0m\u001b[0mfilter\u001b[0m\u001b[1;33m(\u001b[0m\u001b[0mODD_NUM_LIST\u001b[0m\u001b[1;33m,\u001b[0m\u001b[0mlist\u001b[0m\u001b[1;33m)\u001b[0m\u001b[1;33m\u001b[0m\u001b[1;33m\u001b[0m\u001b[0m\n\u001b[0m\u001b[0;32m      2\u001b[0m \u001b[0mprint\u001b[0m\u001b[1;33m(\u001b[0m\u001b[0mtype\u001b[0m\u001b[1;33m(\u001b[0m\u001b[0mf\u001b[0m\u001b[1;33m)\u001b[0m\u001b[1;33m)\u001b[0m\u001b[1;33m\u001b[0m\u001b[1;33m\u001b[0m\u001b[0m\n\u001b[0;32m      3\u001b[0m \u001b[1;32mfor\u001b[0m \u001b[0mk\u001b[0m \u001b[1;32min\u001b[0m \u001b[0mstr\u001b[0m\u001b[1;33m(\u001b[0m\u001b[0mf\u001b[0m\u001b[1;33m)\u001b[0m\u001b[1;33m:\u001b[0m\u001b[1;33m\u001b[0m\u001b[1;33m\u001b[0m\u001b[0m\n\u001b[0;32m      4\u001b[0m     \u001b[0mprint\u001b[0m\u001b[1;33m(\u001b[0m\u001b[0mk\u001b[0m\u001b[1;33m)\u001b[0m\u001b[1;33m\u001b[0m\u001b[1;33m\u001b[0m\u001b[0m\n",
      "\u001b[1;31mTypeError\u001b[0m: 'type' object is not iterable"
     ]
    }
   ],
   "source": [
    "f=filter(ODD_NUM_LIST,list)\n",
    "print(type(f))\n",
    "for k in str(f):\n",
    "    print(k)"
   ]
  },
  {
   "cell_type": "code",
   "execution_count": null,
   "metadata": {},
   "outputs": [],
   "source": [
    "#1.2 Write a Python program to implement your own myfilter() function which works exactly like Python's built-in function filter() \n",
    "def my_filter(func,n):\n",
    "    num=[]\n",
    "    for i in n:\n",
    "        if func(i)==True:\n",
    "            num.append(i)\n",
    "    return num"
   ]
  },
  {
   "cell_type": "code",
   "execution_count": null,
   "metadata": {},
   "outputs": [],
   "source": [
    "print(\"External Filter:\",my_filter(ODD_NUM_LIST,l)) #External Filter()\n",
    "print(\"Internal Filter:\",list(filter(ODD_NUM_LIST,l))) #Internal Filter()"
   ]
  },
  {
   "cell_type": "code",
   "execution_count": null,
   "metadata": {},
   "outputs": [],
   "source": [
    "2.  \n",
    "'''Implement List comprehensions to produce the following lists. \n",
    " \n",
    "Write List comprehensions to produce the following Lists \n",
    " \n",
    "['A', 'C', 'A', 'D', 'G', 'I', ’L’, ‘ D’] \n",
    " \n",
    "['x', 'xx', 'xxx', 'xxxx', 'y', 'yy', 'yyy', 'yyyy', 'z', 'zz', 'zzz', 'zzzz'] \n",
    " \n",
    "['x', 'y', 'z', 'xx', 'yy', 'zz', 'xx', 'yy', 'zz', 'xxxx', 'yyyy', 'zzzz'] \n",
    " \n",
    "[[2], [3], [4], [3], [4], [5], [4], [5], [6]] \n",
    " \n",
    "[[2, 3, 4, 5], [3, 4, 5, 6], [4, 5, 6, 7], [5, 6, 7, 8]] \n",
    " \n",
    "[(1, 1), (2, 1), (3, 1), (1, 2), (2, 2), (3, 2), (1, 3), (2, 3), (3, 3)] '''\n",
    "\n",
    "print([l for l in 'ACADGILD' ])\n",
    "print(sorted([i*j for j in [1,2,3,4] for i in ['x','y','z']]))\n",
    "print([i*j for j in [1,2,3,4] for i in ['x','y','z']])\n",
    "print([[i+j] for j in range(3) for i in [2,3,4]])\n",
    "print([[i + j for j in range(4)] for i in range(2, 6)])\n",
    "print([(i,j) for j in range(1,4) for i in range(1,4)])"
   ]
  },
  {
   "cell_type": "code",
   "execution_count": null,
   "metadata": {},
   "outputs": [],
   "source": [
    "#3.Implement a function longestWord() that takes a list of words and returns the longest one. \n",
    "def LongestWord(n):\n",
    "    res=''\n",
    "    for i in n:\n",
    "        if len(i)>len(res):\n",
    "            res=i\n",
    "    return res\n",
    "\n",
    "#Function Call\n",
    "l=[\"Krishna\",\"Prasad\",\"1234567890\",\"garikipati\"]\n",
    "LongestWord(l)"
   ]
  },
  {
   "cell_type": "markdown",
   "metadata": {},
   "source": [
    "# Task-2"
   ]
  },
  {
   "cell_type": "code",
   "execution_count": null,
   "metadata": {},
   "outputs": [],
   "source": [
    "\"\"\"1.1  Write a Python Program(with class concepts) to find the area of the triangle using the below formula. \n",
    "area = (s*(s-a)*(s-b)*(s-c)) ** 0.5 Function to take the length of the sides of triangle from user should be defined \n",
    "in the parent class and function to calculate the area should be defined in subclass\"\"\"\n",
    "class AreaofTriangle:\n",
    "    def __init__(self,s,a,b,c):\n",
    "        self.s=s\n",
    "        self.a=a\n",
    "        self.b=b\n",
    "        self.c=c\n",
    "class caliculation(AreaofTriangle):\n",
    "    def __init__(self,s,a,b,c):\n",
    "        super(caliculation,self).__init__(s,a,b,c)\n",
    "    def area(self):\n",
    "        return 'Are of the traingle is: '+str((self.s*(self.s-self.a)*(self.s-self.b)*(self.s-self.c)) ** 0.5)\n",
    "\n",
    "cal=caliculation(10,2,3,4)\n",
    "cal.area()"
   ]
  },
  {
   "cell_type": "code",
   "execution_count": null,
   "metadata": {},
   "outputs": [],
   "source": [
    "\"\"\"1.2 Write a function filter_long_words() that takes a list of words and an integer n and returns the list of words \n",
    "that are longer than n. \"\"\"\n",
    "\n",
    "def filter_long_words(w,i):\n",
    "    lnum=0\n",
    "    lwords=[]\n",
    "    for num in i:\n",
    "        if num>lnum:\n",
    "            lnum=num\n",
    "    for word in w:\n",
    "        if len(word)>lnum:\n",
    "            lwords.append(word)\n",
    "    return lwords\n",
    " \n",
    "#Function Call & LIst Assignments\n",
    "w=['an','Krishna','Prasad']\n",
    "n=[2,3,5]\n",
    "filter_long_words(w,n)\n",
    "        "
   ]
  },
  {
   "cell_type": "code",
   "execution_count": null,
   "metadata": {},
   "outputs": [],
   "source": [
    "\"\"\"2.1Write a Python program using function concept that maps  list of words into a list of integers representing the \n",
    "lengths of the corresponding words​.Hint: ​If a list [ ab,cde,erty] is passed on to the python function output should \n",
    "come as [2,3,4]  Here 2,3 and 4 are the lengths of the words in the list.\"\"\"\n",
    "def len_map(l):\n",
    "    le=[]\n",
    "    for i in lst:\n",
    "        le.append(len(i))\n",
    "    return le\n",
    "\n",
    "#List Assignment & Call function\n",
    "lst=['ab','cde','erty']\n",
    "len_map(lst)\n",
    "        "
   ]
  },
  {
   "cell_type": "code",
   "execution_count": null,
   "metadata": {},
   "outputs": [],
   "source": [
    "\"\"\"2.2 Write a Python function which takes a character (i.e. a string of length 1) and returns True if it is a vowel,\n",
    "False otherwise. \"\"\"\n",
    "def vowels_fun(s):\n",
    "    list_vowels=['a','e','i','o','u']\n",
    "    if s in list_vowels:\n",
    "        return True\n",
    "    else:\n",
    "        return False\n",
    "\n",
    "#Function Call\n",
    "vowels_fun('a')"
   ]
  }
 ],
 "metadata": {
  "kernelspec": {
   "display_name": "Python 3",
   "language": "python",
   "name": "python3"
  },
  "language_info": {
   "codemirror_mode": {
    "name": "ipython",
    "version": 3
   },
   "file_extension": ".py",
   "mimetype": "text/x-python",
   "name": "python",
   "nbconvert_exporter": "python",
   "pygments_lexer": "ipython3",
   "version": "3.7.4"
  }
 },
 "nbformat": 4,
 "nbformat_minor": 2
}
